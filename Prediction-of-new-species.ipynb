{
 "cells": [
  {
   "cell_type": "code",
   "execution_count": 1,
   "id": "2524aa68",
   "metadata": {},
   "outputs": [],
   "source": [
    "import os\n",
    "import numpy as np\n",
    "import pandas as pd\n",
    "from scipy.spatial import distance_matrix\n",
    "from skbio.stats.distance import permanova\n",
    "from skbio import DistanceMatrix"
   ]
  },
  {
   "cell_type": "code",
   "execution_count": 4,
   "id": "b56eb4f1",
   "metadata": {},
   "outputs": [],
   "source": [
    "def new_species_detection(test_name, group_root_path, known_species_path,\n",
    "                          test_species_path, save_path):\n",
    "    # get a list of group files from group_root_path\n",
    "    group_list = [file for file in os.listdir(group_root_path)]\n",
    "    # combine test_name with each group in group_list to create a list of tuples\n",
    "    result = [(test_name, s) for s in group_list]\n",
    "    # create an empty dictionary to store p-values for each test\n",
    "    p_values = {}\n",
    "    # assume all p-values are less than 0.05 initially\n",
    "    all_values_small = True\n",
    "\n",
    "    for a, b in result:\n",
    "        # read in the test species and known species data as pandas dataframes\n",
    "        x_1 = pd.read_csv(os.path.join(test_species_path, f\"{a}.csv\"),\n",
    "                          index_col=0)\n",
    "        x_2 = pd.read_csv(os.path.join(known_species_path, f\"{b}.csv\"),\n",
    "                          index_col=0)\n",
    "        # combine the dataframes horizontally\n",
    "        x = pd.concat([x_1, x_2], axis=1)\n",
    "        # save the combined dataframes as a new CSV file\n",
    "        x.to_csv(os.path.join(save_path, f\"{a}_{b}_concat.csv\"))\n",
    "        # calculate the pairwise distances between columns (species) of the combined dataframe\n",
    "        dis = pd.DataFrame(distance_matrix(x.values.T, x.values.T),\n",
    "                           index=x.columns,\n",
    "                           columns=x.columns)\n",
    "        # save the distance matrix as a new CSV file\n",
    "        dis.to_csv(os.path.join(save_path, f\"{a}_{b}_dis.csv\"))\n",
    "        # create a grouping vector for the permanova test (5 samples from groupx and 5 samples from groupy)\n",
    "        grouping = [\"groupx\"] * 5 + [\"groupy\"] * 5\n",
    "        # create a distance matrix object from the pairwise distances\n",
    "        Distance = DistanceMatrix(dis, dis.index)\n",
    "        # run a permanova test using the distance matrix and grouping vector\n",
    "        adonis = permanova(Distance, grouping, permutations=1000)\n",
    "        # store the p-value for this test in the dictionary\n",
    "        p_values[(a, b)] = adonis[\"p-value\"]\n",
    "        # check if any p-value is greater than or equal to 0.05\n",
    "        if adonis[\"p-value\"] >= 0.05:\n",
    "            # if any p-value is greater than or equal to 0.05, set all_values_small to False\n",
    "            all_values_small = False\n",
    "\n",
    "    if all_values_small:\n",
    "        # if all p-values are less than 0.05, output \"new species\"\n",
    "        print(\"new species\")\n",
    "    else:\n",
    "        # if any p-value is greater than or equal to 0.05, output the corresponding test names and p-values\n",
    "        for key, value in p_values.items():\n",
    "            if value >= 0.05:\n",
    "                print(\n",
    "                    f\"Test species '{key[0]}' and known species '{key[1]}' have a p-value of {value}\"\n",
    "                )\n",
    "\n",
    "    # return the dictionary of p-values for all tests\n",
    "    return p_values"
   ]
  },
  {
   "cell_type": "code",
   "execution_count": 14,
   "id": "2059ec7b",
   "metadata": {},
   "outputs": [
    {
     "name": "stdout",
     "output_type": "stream",
     "text": [
      "new species\n"
     ]
    }
   ],
   "source": [
    "test_name = 'Me.ns'\n",
    "group_root_path = \"xxxxxxx\"\n",
    "known_species_path = \"xxxxxxxxxx\"\n",
    "test_species_path = \"xxxxxxxxx\"\n",
    "save_path = \"xxxxxxx\"\n",
    "\n",
    "p_values = new_species_detection(test_name, group_root_path,\n",
    "                                 known_species_path, test_species_path,\n",
    "                                 save_path)"
   ]
  },
  {
   "cell_type": "code",
   "execution_count": 15,
   "id": "fff7f9ce",
   "metadata": {},
   "outputs": [
    {
     "data": {
      "text/plain": [
       "{('Me.ns', 'Me.di'): 0.006993006993006993,\n",
       " ('Me.ns', 'Me.ha'): 0.04995004995004995,\n",
       " ('Me.ns', 'Me.pr'): 0.006993006993006993}"
      ]
     },
     "execution_count": 15,
     "metadata": {},
     "output_type": "execute_result"
    }
   ],
   "source": [
    "p_values"
   ]
  },
  {
   "cell_type": "code",
   "execution_count": 5,
   "id": "6b565e38",
   "metadata": {},
   "outputs": [
    {
     "name": "stdout",
     "output_type": "stream",
     "text": [
      "Test species 'Me.pr-test' and known species 'Me.pr' have a p-value of 0.5024975024975025\n"
     ]
    }
   ],
   "source": [
    "test_name = 'Me.pr-test'\n",
    "group_root_path = \"xxxxxxx\"\n",
    "known_species_path = \"xxxxxxx\"\n",
    "test_species_path = \"xxxxxxx\"\n",
    "save_path = \"xxxxx\"\n",
    "\n",
    "p_values = new_species_detection(test_name, group_root_path,\n",
    "                                 known_species_path, test_species_path,\n",
    "                                 save_path)"
   ]
  },
  {
   "cell_type": "code",
   "execution_count": 6,
   "id": "48ce81f4",
   "metadata": {},
   "outputs": [
    {
     "data": {
      "text/plain": [
       "{('Me.pr-test', 'Me.di'): 0.007992007992007992,\n",
       " ('Me.pr-test', 'Me.ha'): 0.005994005994005994,\n",
       " ('Me.pr-test', 'Me.pr'): 0.5024975024975025}"
      ]
     },
     "execution_count": 6,
     "metadata": {},
     "output_type": "execute_result"
    }
   ],
   "source": [
    "p_values"
   ]
  }
 ],
 "metadata": {
  "kernelspec": {
   "display_name": "Python 3 (ipykernel)",
   "language": "python",
   "name": "python3"
  },
  "language_info": {
   "codemirror_mode": {
    "name": "ipython",
    "version": 3
   },
   "file_extension": ".py",
   "mimetype": "text/x-python",
   "name": "python",
   "nbconvert_exporter": "python",
   "pygments_lexer": "ipython3",
   "version": "3.8.11"
  },
  "toc": {
   "base_numbering": 1,
   "nav_menu": {},
   "number_sections": true,
   "sideBar": true,
   "skip_h1_title": false,
   "title_cell": "Table of Contents",
   "title_sidebar": "Contents",
   "toc_cell": false,
   "toc_position": {},
   "toc_section_display": true,
   "toc_window_display": false
  },
  "varInspector": {
   "cols": {
    "lenName": 16,
    "lenType": 16,
    "lenVar": 40
   },
   "kernels_config": {
    "python": {
     "delete_cmd_postfix": "",
     "delete_cmd_prefix": "del ",
     "library": "var_list.py",
     "varRefreshCmd": "print(var_dic_list())"
    },
    "r": {
     "delete_cmd_postfix": ") ",
     "delete_cmd_prefix": "rm(",
     "library": "var_list.r",
     "varRefreshCmd": "cat(var_dic_list()) "
    }
   },
   "types_to_exclude": [
    "module",
    "function",
    "builtin_function_or_method",
    "instance",
    "_Feature"
   ],
   "window_display": false
  }
 },
 "nbformat": 4,
 "nbformat_minor": 5
}
