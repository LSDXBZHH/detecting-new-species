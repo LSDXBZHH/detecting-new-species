{
 "cells": [
  {
   "cell_type": "code",
   "execution_count": 1,
   "id": "abf12d49",
   "metadata": {},
   "outputs": [],
   "source": [
    "import json\n",
    "from PIL import Image\n",
    "import os\n",
    "import torch\n",
    "import torch.nn as nn\n",
    "from torchvision import transforms, datasets, utils, models\n",
    "import matplotlib.pyplot as plt\n",
    "import numpy as np\n",
    "import torch.optim as optim\n",
    "import pandas as pd\n",
    "from scipy.spatial import distance_matrix\n",
    "from skbio.stats.distance import permanova\n",
    "from skbio import DistanceMatrix\n"
   ]
  },
  {
   "cell_type": "code",
   "execution_count": 4,
   "id": "5819b580",
   "metadata": {},
   "outputs": [
    {
     "data": {
      "text/plain": [
       "<All keys matched successfully>"
      ]
     },
     "execution_count": 4,
     "metadata": {},
     "output_type": "execute_result"
    }
   ],
   "source": [
    "device = torch.device(\"cuda:0\" if torch.cuda.is_available() else \"cpu\")\n",
    "model = models.mobilenet_v2(pretrained=False)\n",
    "\n",
    "model.classifier = nn.Sequential(\n",
    "    nn.Dropout(0.2),\n",
    "    nn.Linear(model.last_channel, 3),\n",
    ")\n",
    "\n",
    "model = model.to(device)\n",
    "\n",
    "# load model weights\n",
    "weights_path = \"./mobilenet-Melanopopillia-800.pth\"\n",
    "assert os.path.exists(weights_path), f\"file: '{weights_path}' dose not exist.\"\n",
    "\n",
    "#model.load_state_dict(torch.load(weights_path, map_location=device))\n",
    "checkpoint = torch.load(weights_path, map_location=device)\n",
    "\n",
    "best_acc = checkpoint['best_acc']\n",
    "\n",
    "model.load_state_dict(checkpoint['state_dict'])\n",
    "\n",
    "data_transform = transforms.Compose([\n",
    "    transforms.Resize(256),\n",
    "    transforms.CenterCrop(224),\n",
    "    transforms.ToTensor(),\n",
    "    transforms.Normalize([0.485, 0.456, 0.406], [0.229, 0.224, 0.225])\n",
    "])\n",
    "\n",
    "# read class_indict\n",
    "json_path = './class_indices.json'\n",
    "assert os.path.exists(json_path), f\"file: '{json_path}' dose not exist.\"\n",
    "json_file = open(json_path, \"r\", encoding='utf-8')\n",
    "\n",
    "class_indict = json.load(json_file)"
   ]
  },
  {
   "cell_type": "code",
   "execution_count": null,
   "id": "1f85ba7c",
   "metadata": {},
   "outputs": [],
   "source": [
    "def img_to_prob(group_root_path, save_path=\"./csv/\", classes=3):\n",
    "    # Initialize empty dataframes for storing results\n",
    "    prob_one_group = pd.DataFrame()\n",
    "    result_copy = pd.DataFrame()\n",
    "\n",
    "    # Get a list of subdirectories in group_root_path\n",
    "    group_list = os.listdir(group_root_path)\n",
    "\n",
    "    # Loop through each group and its subdirectories\n",
    "    for group in group_list:\n",
    "        group_path = os.path.join(group_root_path, group)\n",
    "        for sub_dir in os.listdir(group_path):\n",
    "            # Get the full path of the subdirectory\n",
    "            file_path = os.path.join(group_path, sub_dir)\n",
    "\n",
    "            # Get a list of image paths in the subdirectory\n",
    "            img_path_list = [\n",
    "                os.path.join(file_path, i) for i in os.listdir(file_path)\n",
    "                # Only include files ending in \".jpg\" that exist\n",
    "                if i.endswith(\".jpg\")\n",
    "                and os.path.exists(os.path.join(file_path, i))\n",
    "            ]\n",
    "\n",
    "            # Skip the subdirectory if there are no image files\n",
    "            if not img_path_list:\n",
    "                continue\n",
    "\n",
    "            # Set the model to evaluation mode\n",
    "            model.eval()\n",
    "\n",
    "            # Initialize empty lists for storing results\n",
    "            result = []\n",
    "            probability = []\n",
    "\n",
    "            # Loop through each class and each image in img_path_list\n",
    "            with torch.no_grad():\n",
    "                for j in range(classes):\n",
    "                    for img_path in img_path_list:\n",
    "                        # Open the image file and apply data transformation\n",
    "                        img = Image.open(img_path)\n",
    "                        img = data_transform(img)\n",
    "                        img = torch.unsqueeze(img, dim=0)\n",
    "\n",
    "                        # Predict the class probabilities\n",
    "                        output = torch.squeeze(model(img.to(device))).cpu()\n",
    "                        predict = torch.softmax(output, dim=0)\n",
    "\n",
    "                        # Store the result as a string and the probability as a float\n",
    "                        result.append(\"{},{:.3},{}\".format(\n",
    "                            img_path, predict[j].numpy(),\n",
    "                            class_indict[str(j)]))\n",
    "                        probability.append(predict[j].numpy())\n",
    "\n",
    "            # Store the result and probability dataframes with the subdirectory name as the column name\n",
    "            result_copy[sub_dir] = pd.DataFrame(result)\n",
    "            prob_one_group[sub_dir] = pd.DataFrame(probability)\n",
    "\n",
    "        # Save the result and probability dataframes as CSV files for the current group\n",
    "        prob_one_group.to_csv(os.path.join(save_path, group + \".csv\"))\n",
    "        result_copy.to_csv(\n",
    "            os.path.join(save_path, group + \"_\" + \"all\" + \".csv\"))\n",
    "\n",
    "        # Reset the dataframes for the next group\n",
    "        prob_one_group = pd.DataFrame()\n",
    "        result_copy = pd.DataFrame()\n",
    "\n",
    "    return"
   ]
  },
  {
   "cell_type": "code",
   "execution_count": 10,
   "id": "50a86ca6",
   "metadata": {},
   "outputs": [],
   "source": [
    "group_root_path=\"./xxxxxx/\"\n",
    "save_path=\"./xxxxx\""
   ]
  },
  {
   "cell_type": "code",
   "execution_count": 11,
   "id": "a56eac8e",
   "metadata": {},
   "outputs": [],
   "source": [
    "prob_csv=img_to_prob(group_root_path, save_path=\"./csv/\", classes=3)"
   ]
  }
 ],
 "metadata": {
  "kernelspec": {
   "display_name": "Python 3 (ipykernel)",
   "language": "python",
   "name": "python3"
  },
  "language_info": {
   "codemirror_mode": {
    "name": "ipython",
    "version": 3
   },
   "file_extension": ".py",
   "mimetype": "text/x-python",
   "name": "python",
   "nbconvert_exporter": "python",
   "pygments_lexer": "ipython3",
   "version": "3.8.11"
  },
  "toc": {
   "base_numbering": 1,
   "nav_menu": {},
   "number_sections": true,
   "sideBar": true,
   "skip_h1_title": false,
   "title_cell": "Table of Contents",
   "title_sidebar": "Contents",
   "toc_cell": false,
   "toc_position": {},
   "toc_section_display": true,
   "toc_window_display": false
  },
  "varInspector": {
   "cols": {
    "lenName": 16,
    "lenType": 16,
    "lenVar": 40
   },
   "kernels_config": {
    "python": {
     "delete_cmd_postfix": "",
     "delete_cmd_prefix": "del ",
     "library": "var_list.py",
     "varRefreshCmd": "print(var_dic_list())"
    },
    "r": {
     "delete_cmd_postfix": ") ",
     "delete_cmd_prefix": "rm(",
     "library": "var_list.r",
     "varRefreshCmd": "cat(var_dic_list()) "
    }
   },
   "types_to_exclude": [
    "module",
    "function",
    "builtin_function_or_method",
    "instance",
    "_Feature"
   ],
   "window_display": false
  }
 },
 "nbformat": 4,
 "nbformat_minor": 5
}
